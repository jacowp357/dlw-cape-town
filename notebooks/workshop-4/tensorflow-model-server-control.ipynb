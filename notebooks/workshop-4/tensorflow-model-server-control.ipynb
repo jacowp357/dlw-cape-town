{
 "cells": [
  {
   "cell_type": "markdown",
   "metadata": {},
   "source": [
    "# Start and Stop Tensorflow Model Server"
   ]
  },
  {
   "cell_type": "code",
   "execution_count": 12,
   "metadata": {},
   "outputs": [],
   "source": [
    "import atexit\n",
    "import subprocess"
   ]
  },
  {
   "cell_type": "code",
   "execution_count": 13,
   "metadata": {},
   "outputs": [],
   "source": [
    "SERVER_PROCESS = None"
   ]
  },
  {
   "cell_type": "code",
   "execution_count": 17,
   "metadata": {},
   "outputs": [],
   "source": [
    "def start():\n",
    "    global SERVER_PROCESS\n",
    "    if not SERVER_PROCESS:\n",
    "        SERVER_PROCESS = subprocess.Popen(\n",
    "            [\"tensorflow_model_server\", \"--port=9000\", \"--model_name=mnist-model\", \"--model_base_path=/root/source/dlw-cape-town/notebooks/workshop-4/tensorflow-server-models/mnist-model\"]\n",
    "        )\n",
    "        atexit.register(shutdown)"
   ]
  },
  {
   "cell_type": "code",
   "execution_count": 18,
   "metadata": {},
   "outputs": [],
   "source": [
    "def shutdown():\n",
    "    global SERVER_PROCESS\n",
    "    if SERVER_PROCESS:\n",
    "        atexit.unregister(shutdown)\n",
    "        SERVER_PROCESS.kill()\n",
    "        SERVER_PROCESS = None\n",
    "        "
   ]
  },
  {
   "cell_type": "code",
   "execution_count": 19,
   "metadata": {},
   "outputs": [],
   "source": [
    "start()"
   ]
  },
  {
   "cell_type": "code",
   "execution_count": 11,
   "metadata": {},
   "outputs": [],
   "source": [
    "shutdown()"
   ]
  }
 ],
 "metadata": {
  "kernelspec": {
   "display_name": "Python 3",
   "language": "python",
   "name": "python3"
  },
  "language_info": {
   "codemirror_mode": {
    "name": "ipython",
    "version": 3
   },
   "file_extension": ".py",
   "mimetype": "text/x-python",
   "name": "python",
   "nbconvert_exporter": "python",
   "pygments_lexer": "ipython3",
   "version": "3.6.1"
  }
 },
 "nbformat": 4,
 "nbformat_minor": 2
}
