{
 "cells": [
  {
   "cell_type": "markdown",
   "metadata": {},
   "source": [
    "# Utilities"
   ]
  },
  {
   "cell_type": "code",
   "execution_count": null,
   "metadata": {},
   "outputs": [],
   "source": [
    "%matplotlib inline"
   ]
  },
  {
   "cell_type": "code",
   "execution_count": null,
   "metadata": {},
   "outputs": [],
   "source": [
    "import functools\n",
    "import matplotlib.pyplot as plt\n",
    "import numpy as np\n",
    "from tensorflow.examples.tutorials.mnist import input_data"
   ]
  },
  {
   "cell_type": "code",
   "execution_count": null,
   "metadata": {},
   "outputs": [],
   "source": [
    "# Constants\n",
    "TENSOR_SERVER_MODEL_SPEC_NAME = \"mnist-model\"\n",
    "\n",
    "LINEAR_MODEL_CHECKPOINT_PREFIX = \"tensorflow-checkpoints/mnist-model/linear-model\"\n",
    "LINEAR_MODEL_TENSOR_SERVER_DIR = \"tensorflow-server-models/mnist-model/1\"\n",
    "LINEAR_MODEL_TENSOR_SERVER_VERSION = 1\n",
    "\n",
    "NEURAL_NETWORK_MODEL_CHECKPOINT_PREFIX = \"tensorflow-checkpoints/mnist-model/neural-network-model\"\n",
    "NEURAL_NETWORK_MODEL_TENSOR_SERVER_DIR = \"tensorflow-server-models/mnist-model/2\"\n",
    "NEURAL_NETWORK_MODEL_TENSOR_SERVER_VERSION = 2"
   ]
  },
  {
   "cell_type": "code",
   "execution_count": null,
   "metadata": {},
   "outputs": [],
   "source": [
    "def display_mnist_images(images):\n",
    "    plt.rcParams['image.interpolation'] = 'nearest'\n",
    "    plt.rcParams['image.cmap'] = 'gray'\n",
    "    nrows, ncols = images.shape\n",
    "    fig, axs = plt.subplots(1, nrows, figsize=(25, 3))\n",
    "    for i in range(nrows):\n",
    "        image = (images[i].reshape(28, 28) * 255).astype(np.uint8)\n",
    "        axs.flat[i].imshow(image)\n",
    "    plt.show()"
   ]
  },
  {
   "cell_type": "code",
   "execution_count": null,
   "metadata": {},
   "outputs": [],
   "source": [
    "# ensure mnist images are only loaded once\n",
    "@functools.lru_cache()\n",
    "def get_mnist_data():\n",
    "    return input_data.read_data_sets(\"mnist_data/\", one_hot=True)"
   ]
  },
  {
   "cell_type": "code",
   "execution_count": null,
   "metadata": {},
   "outputs": [],
   "source": [
    "def sample_images(n, images):\n",
    "    nrows, _ = images.shape\n",
    "    row_idxs = np.random.randint(0, nrows - 1, n)\n",
    "    return images[row_idxs, :]"
   ]
  },
  {
   "cell_type": "code",
   "execution_count": null,
   "metadata": {},
   "outputs": [],
   "source": [
    "def sample_and_predict_one_model(mnist_images, model, sample_count=10):\n",
    "    samples = sample_images(sample_count, mnist_images)\n",
    "    display_mnist_images(samples)\n",
    "    return model.predict(samples)"
   ]
  },
  {
   "cell_type": "code",
   "execution_count": null,
   "metadata": {},
   "outputs": [],
   "source": [
    "def sample_and_predict_two_models(mnist_images, model1, model2, sample_count=10):\n",
    "    samples = sample_images(sample_count, mnist_images)\n",
    "    display_mnist_images(samples)\n",
    "    return model1.predict(samples), model2.predict(samples)"
   ]
  },
  {
   "cell_type": "code",
   "execution_count": null,
   "metadata": {},
   "outputs": [],
   "source": [
    "# load MNIST data\n",
    "mnist_data = get_mnist_data()"
   ]
  }
 ],
 "metadata": {
  "kernelspec": {
   "display_name": "Python 3",
   "language": "python",
   "name": "python3"
  },
  "language_info": {
   "codemirror_mode": {
    "name": "ipython",
    "version": 3
   },
   "file_extension": ".py",
   "mimetype": "text/x-python",
   "name": "python",
   "nbconvert_exporter": "python",
   "pygments_lexer": "ipython3",
   "version": "3.6.1"
  }
 },
 "nbformat": 4,
 "nbformat_minor": 2
}
