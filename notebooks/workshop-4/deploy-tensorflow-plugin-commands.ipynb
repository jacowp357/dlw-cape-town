{
 "cells": [
  {
   "cell_type": "markdown",
   "metadata": {},
   "source": [
    "# Deploy TensorFlow - plugin commands\n",
    "\n",
    "Execute bash commands in this ipynb to do colour and digit predictions on the ML Server model plugins, without using the server.\n",
    "\n",
    "Ensure you have first follow the steps in _deploy-tensorflow-web-api.md_ to get the ML Server project cloned."
   ]
  },
  {
   "cell_type": "code",
   "execution_count": 1,
   "metadata": {},
   "outputs": [
    {
     "name": "stdout",
     "output_type": "stream",
     "text": [
      "/root/source/machine-learning-server/mlserver\n"
     ]
    }
   ],
   "source": [
    "cd ~/source/machine-learning-server/mlserver"
   ]
  },
  {
   "cell_type": "code",
   "execution_count": 2,
   "metadata": {},
   "outputs": [
    {
     "name": "stdout",
     "output_type": "stream",
     "text": [
      "pexels-architecture.jpg  pexels-multi-colour.jpeg     pexels-stack-of-books.jpg\r\n",
      "pexels-gears.jpeg\t pexels-rose-gold-clips.jpeg  pexels-taxi.jpeg\r\n"
     ]
    }
   ],
   "source": [
    "# See available photos.\n",
    "! ls ../sampleImages/photos"
   ]
  },
  {
   "cell_type": "code",
   "execution_count": 3,
   "metadata": {},
   "outputs": [
    {
     "name": "stdout",
     "output_type": "stream",
     "text": [
      "Usage: python -m lib.plugins.nameOfPlugin [IMAGE_PATH] [X] [Y] [-p|--pretty] [-h|--help]\r\n",
      "\r\n",
      "Getting attributes of a `ColorClassifier` class instance.\r\n",
      "Name: \r\n",
      " Built-in Color Classifier\r\n",
      "\r\n",
      "Description: \r\n",
      "  Receives an image and co-ordinates then predicts which colors are most appropriate for the image. This model is supplied with the project.\r\n",
      "\r\n",
      "Metadata: \r\n",
      "  {\r\n",
      "    \"model\": {\r\n",
      "        \"version\": \"0.1.0\",\r\n",
      "        \"name\": \"Built-in Color Classifier\",\r\n",
      "        \"description\": \"Receives an image and co-ordinates then predicts which colors are most appropriate for the image. This model is supplied with the project.\"\r\n",
      "    },\r\n",
      "    \"inputFiles\": {\r\n",
      "        \"modelFileName\": \"modelGraph.pb\",\r\n",
      "        \"labelsFileName\": \"colors.txt\"\r\n",
      "    },\r\n",
      "    \"tensors\": {\r\n",
      "        \"input\": \"input:0\",\r\n",
      "        \"output\": \"output_prediction:0\"\r\n",
      "    },\r\n",
      "    \"logging\": {\r\n",
      "        \"TFLogLevel\": \"3\"\r\n",
      "    },\r\n",
      "    \"image\": {\r\n",
      "        \"cropFactorW\": \"0.02\",\r\n",
      "        \"cropFactorH\": \"0.02\",\r\n",
      "        \"resizeW\": \"9\",\r\n",
      "        \"resizeH\": \"9\"\r\n",
      "    }\r\n",
      "}\r\n",
      "\r\n"
     ]
    }
   ],
   "source": [
    "! python -m lib.plugins.colorClassifier --help"
   ]
  },
  {
   "cell_type": "code",
   "execution_count": 4,
   "metadata": {},
   "outputs": [
    {
     "name": "stdout",
     "output_type": "stream",
     "text": [
      "[\r\n",
      "    {\r\n",
      "        \"label\": \"orange\",\r\n",
      "        \"score\": \"54.71%\"\r\n",
      "    },\r\n",
      "    {\r\n",
      "        \"label\": \"red\",\r\n",
      "        \"score\": \"42.85%\"\r\n",
      "    }\r\n",
      "]\r\n"
     ]
    }
   ],
   "source": [
    "# Do a prediction on the  using for a particular image using X and Y \n",
    "# values each set from 0 to 100.\n",
    "! python -m lib.plugins.colorClassifier ../sampleImages/photos/pexels-architecture.jpg 10 50"
   ]
  },
  {
   "cell_type": "code",
   "execution_count": 5,
   "metadata": {},
   "outputs": [
    {
     "name": "stdout",
     "output_type": "stream",
     "text": [
      "[\r\n",
      "    {\r\n",
      "        \"label\": \"grey\",\r\n",
      "        \"score\": \"44.34%\"\r\n",
      "    },\r\n",
      "    {\r\n",
      "        \"label\": \"silver\",\r\n",
      "        \"score\": \"32.02%\"\r\n",
      "    },\r\n",
      "    {\r\n",
      "        \"label\": \"pink\",\r\n",
      "        \"score\": \"12.23%\"\r\n",
      "    },\r\n",
      "    {\r\n",
      "        \"label\": \"rose gold\",\r\n",
      "        \"score\": \"10.46%\"\r\n",
      "    }\r\n",
      "]\r\n"
     ]
    }
   ],
   "source": [
    "! python -m lib.plugins.colorClassifier ../sampleImages/photos/pexels-rose-gold-clips.jpeg 40 60"
   ]
  },
  {
   "cell_type": "code",
   "execution_count": 6,
   "metadata": {},
   "outputs": [
    {
     "name": "stdout",
     "output_type": "stream",
     "text": [
      "0.png  2.png   3.png   4.png  6.png   7.png  9.png\r\n",
      "1.png  2b.png  3b.png  5.png  6b.png  8.png\r\n"
     ]
    }
   ],
   "source": [
    "! ls ../sampleImages/digits"
   ]
  },
  {
   "cell_type": "code",
   "execution_count": 7,
   "metadata": {},
   "outputs": [
    {
     "name": "stdout",
     "output_type": "stream",
     "text": [
      "[\r\n",
      "    {\r\n",
      "        \"label\": \"0\",\r\n",
      "        \"score\": \"100.00%\"\r\n",
      "    }\r\n",
      "]\r\n"
     ]
    }
   ],
   "source": [
    "# Do a digit prediction, where co-ordinate points are not used.\n",
    "! python -m lib.plugins.digitClassifier ../sampleImages/digits/0.png"
   ]
  },
  {
   "cell_type": "code",
   "execution_count": 8,
   "metadata": {},
   "outputs": [
    {
     "name": "stdout",
     "output_type": "stream",
     "text": [
      "[\r\n",
      "    {\r\n",
      "        \"label\": \"5\",\r\n",
      "        \"score\": \"100.00%\"\r\n",
      "    }\r\n",
      "]\r\n"
     ]
    }
   ],
   "source": [
    "! python -m lib.plugins.digitClassifier ../sampleImages/digits/5.png"
   ]
  }
 ],
 "metadata": {
  "kernelspec": {
   "display_name": "Python 3",
   "language": "python",
   "name": "python3"
  },
  "language_info": {
   "codemirror_mode": {
    "name": "ipython",
    "version": 3
   },
   "file_extension": ".py",
   "mimetype": "text/x-python",
   "name": "python",
   "nbconvert_exporter": "python",
   "pygments_lexer": "ipython3",
   "version": "3.6.1"
  }
 },
 "nbformat": 4,
 "nbformat_minor": 2
}
